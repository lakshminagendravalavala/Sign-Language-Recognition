{
 "cells": [
  {
   "cell_type": "code",
   "execution_count": 1,
   "id": "54b133b0-811f-43b8-8d98-7ccb3df942a8",
   "metadata": {},
   "outputs": [],
   "source": [
    "import warnings\n",
    "warnings.filterwarnings('ignore')"
   ]
  },
  {
   "cell_type": "code",
   "execution_count": null,
   "id": "e2ac1296-9992-45d9-bb4c-e123032d27ba",
   "metadata": {},
   "outputs": [],
   "source": [
    "import pandas as pd\n",
    "import numpy as np\n",
    "from tensorflow.keras.models import Sequential, Model\n",
    "from tensorflow.keras.layers import Conv2D, MaxPooling2D, Flatten, Dense, Dropout, BatchNormalization\n",
    "from tensorflow.keras.optimizers import Adam\n",
    "from tensorflow.keras.losses import categorical_crossentropy\n",
    "from tensorflow.keras.regularizers import l2\n",
    "from tensorflow.keras.utils import to_categorical\n",
    "from tensorflow.keras.callbacks import EarlyStopping, ReduceLROnPlateau\n",
    "from tensorflow.keras.preprocessing.image import ImageDataGenerator\n",
    "from tensorflow.keras.layers import Input\n",
    "from sklearn.metrics import classification_report, confusion_matrix\n",
    "import seaborn as sns\n",
    "import matplotlib.pyplot as plt\n",
    "from tensorflow.image import resize\n",
    "from tensorflow.keras.applications import VGG16, ResNet50\n",
    "\n",
    "train_df = pd.read_csv('C:/Users/nagen/Downloads/DL_Project/SignNet_Train.csv')\n",
    "test_df = pd.read_csv('C:/Users/nagen/Downloads/DL_Project/SignNet_Test.csv')\n",
    "\n",
    "def preprocess_data(df):\n",
    "    X = df.drop(columns=['label']).values\n",
    "    y = df['label'].values\n",
    "    X = X / 255.0\n",
    "    X = X.reshape(-1, 28, 28, 1)\n",
    "    y = to_categorical(y, num_classes=25)\n",
    "    return X, y\n",
    "\n",
    "X_train, y_train = preprocess_data(train_df)\n",
    "X_test, y_test = preprocess_data(test_df)\n",
    "\n",
    "from sklearn.model_selection import train_test_split\n",
    "X_train, X_val, y_train, y_val = train_test_split(X_train, y_train, test_size=0.2, random_state=42)\n",
    "\n",
    "def SignNet():\n",
    "    model = Sequential()\n",
    "    \n",
    "    model.add(Input(shape=(28, 28, 1)))\n",
    "    model.add(Conv2D(32, (3, 3), activation='relu', kernel_regularizer=l2(0.001)))\n",
    "    model.add(BatchNormalization())\n",
    "    model.add(MaxPooling2D(pool_size=(2, 2)))\n",
    "    model.add(Conv2D(64, (3, 3), activation='relu', kernel_regularizer=l2(0.001)))\n",
    "    model.add(BatchNormalization())\n",
    "    model.add(MaxPooling2D(pool_size=(2, 2)))\n",
    "    model.add(Conv2D(128, (3, 3), activation='relu', kernel_regularizer=l2(0.001)))\n",
    "    model.add(BatchNormalization())\n",
    "    model.add(MaxPooling2D(pool_size=(2, 2)))\n",
    "    model.add(Flatten())\n",
    "    model.add(Dense(256, activation='relu', kernel_regularizer=l2(0.001)))\n",
    "    model.add(BatchNormalization())\n",
    "    model.add(Dropout(0.6))\n",
    "    model.add(Dense(25, activation='softmax'))\n",
    "\n",
    "    optimizer = Adam(learning_rate=0.001)\n",
    "    model.compile(optimizer=optimizer, loss='categorical_crossentropy', metrics=['accuracy'])\n",
    "    \n",
    "    return model\n",
    "\n",
    "datagen = ImageDataGenerator(\n",
    "    rotation_range=10,\n",
    "    zoom_range=0.1,\n",
    "    width_shift_range=0.1,\n",
    "    height_shift_range=0.1,\n",
    ")\n",
    "\n",
    "early_stopping = EarlyStopping(monitor='val_loss', patience=5, restore_best_weights=True)\n",
    "reduce_lr = ReduceLROnPlateau(monitor='val_loss', factor=0.5, patience=3, verbose=1)\n",
    "\n",
    "model = SignNet()\n",
    "\n",
    "train_dataset = datagen.flow(X_train, y_train, batch_size=64)\n",
    "\n",
    "history = model.fit(train_dataset,\n",
    "                    validation_data=(X_val, y_val),\n",
    "                    epochs=25,\n",
    "                    callbacks=[early_stopping, reduce_lr])\n"
   ]
  },
  {
   "cell_type": "code",
   "execution_count": null,
   "id": "91349772-ff16-441c-abce-79aa643f4077",
   "metadata": {},
   "outputs": [],
   "source": [
    "test_loss, test_acc = model.evaluate(X_test, y_test)\n",
    "print(f\"SignNet Test accuracy: {test_acc:.4f}\")"
   ]
  },
  {
   "cell_type": "code",
   "execution_count": null,
   "id": "44dd1a15-061c-46af-a001-51d9e2b7aa13",
   "metadata": {},
   "outputs": [],
   "source": [
    "y_pred = model.predict(X_test)\n",
    "y_pred_classes = np.argmax(y_pred, axis=1)\n",
    "y_true = np.argmax(y_test, axis=1)\n",
    "\n",
    "print(\"Classification Report of SignNet Model: \")\n",
    "print(classification_report(y_true, y_pred_classes))"
   ]
  },
  {
   "cell_type": "code",
   "execution_count": null,
   "id": "09de5a91-d99f-41a8-aa86-37390086a08e",
   "metadata": {},
   "outputs": [],
   "source": [
    "confusion_mtx = confusion_matrix(y_true, y_pred_classes)\n",
    "plt.figure(figsize=(10, 8))\n",
    "sns.heatmap(confusion_mtx, annot=True, fmt='d', cmap='Blues', xticklabels=np.arange(25), yticklabels=np.arange(25))\n",
    "plt.xlabel('Predicted')\n",
    "plt.ylabel('True')\n",
    "plt.title('Confusion Matrix of SignNet Model')\n",
    "plt.show()"
   ]
  },
  {
   "cell_type": "code",
   "execution_count": null,
   "id": "12e70d1d-f27c-43a7-9a5b-d61cf2f5f771",
   "metadata": {},
   "outputs": [],
   "source": [
    "plt.figure(figsize=(12, 5))\n",
    "plt.subplot(1, 2, 1)\n",
    "plt.plot(history.history['accuracy'], label='Train Accuracy')\n",
    "plt.plot(history.history['val_accuracy'], label='Validation Accuracy')\n",
    "plt.title('Model Accuracy')\n",
    "plt.ylabel('Accuracy')\n",
    "plt.xlabel('Epoch')\n",
    "plt.legend(loc='lower right')\n",
    "\n",
    "plt.subplot(1, 2, 2)\n",
    "plt.plot(history.history['loss'], label='Train Loss')\n",
    "plt.plot(history.history['val_loss'], label='Validation Loss')\n",
    "plt.title('Model Loss')\n",
    "plt.ylabel('Loss')\n",
    "plt.xlabel('Epoch')\n",
    "plt.legend(loc='upper right')\n",
    "\n",
    "plt.tight_layout()\n",
    "plt.show()"
   ]
  },
  {
   "cell_type": "code",
   "execution_count": null,
   "id": "3ecab4a5-7ded-4043-ae96-24240b9ac009",
   "metadata": {},
   "outputs": [],
   "source": [
    "X_train_resized = resize(X_train, (32, 32))\n",
    "X_val_resized = resize(X_val, (32, 32))\n",
    "X_test_resized = resize(X_test, (32, 32))"
   ]
  },
  {
   "cell_type": "code",
   "execution_count": null,
   "id": "07a0860a-ee70-45c3-b3ad-235b1574b57d",
   "metadata": {},
   "outputs": [],
   "source": [
    "vgg_model = VGG16(weights=None, input_shape=(32, 32, 1), classes=25)\n",
    "vgg_model.compile(optimizer='adam', loss=categorical_crossentropy, metrics=['accuracy'])\n",
    "\n",
    "history_vgg = vgg_model.fit(datagen.flow(X_train_resized, y_train, batch_size=64),\n",
    "                            validation_data=(X_val_resized, y_val),\n",
    "                            epochs=5, callbacks=[early_stopping, reduce_lr])"
   ]
  },
  {
   "cell_type": "code",
   "execution_count": null,
   "id": "cf0a9672-bc15-4e2d-8659-b62df4cacc80",
   "metadata": {},
   "outputs": [],
   "source": [
    "vgg_test_loss, vgg_test_acc = vgg_model.evaluate(X_test_resized, y_test)\n",
    "print(f\"VGG16 Test accuracy: {vgg_test_acc:.4f}\")\n",
    "\n",
    "y_pred = vgg_model.predict(X_test_resized)\n",
    "y_pred_classes = np.argmax(y_pred, axis=1)\n",
    "y_true = np.argmax(y_test, axis=1)\n",
    "\n",
    "print(\"Classification Report of VGG16 Model: \")\n",
    "print(classification_report(y_true, y_pred_classes))"
   ]
  },
  {
   "cell_type": "code",
   "execution_count": null,
   "id": "004c3d90-e4da-4f20-aee1-d7648f00b185",
   "metadata": {},
   "outputs": [],
   "source": [
    "confusion_mtx = confusion_matrix(y_true, y_pred_classes)\n",
    "plt.figure(figsize=(10, 8))\n",
    "sns.heatmap(confusion_mtx, annot=True, fmt='d', cmap='Blues', xticklabels=np.arange(25), yticklabels=np.arange(25))\n",
    "plt.xlabel('Predicted')\n",
    "plt.ylabel('True')\n",
    "plt.title('Confusion Matrix of VGG16 Model')\n",
    "plt.show()"
   ]
  },
  {
   "cell_type": "code",
   "execution_count": null,
   "id": "a857aaa3-396e-48f8-8db0-b59bd845595f",
   "metadata": {},
   "outputs": [],
   "source": [
    "plt.figure(figsize=(12, 5))\n",
    "plt.subplot(1, 2, 1)\n",
    "plt.plot(history_vgg.history['accuracy'], label='Train Accuracy')\n",
    "plt.plot(history_vgg.history['val_accuracy'], label='Validation Accuracy')\n",
    "plt.title('Model Accuracy')\n",
    "plt.ylabel('Accuracy')\n",
    "plt.xlabel('Epoch')\n",
    "plt.legend(loc='lower right')\n",
    "\n",
    "plt.subplot(1, 2, 2)\n",
    "plt.plot(history_vgg.history['loss'], label='Train Loss')\n",
    "plt.plot(history_vgg.history['val_loss'], label='Validation Loss')\n",
    "plt.title('Model Loss')\n",
    "plt.ylabel('Loss')\n",
    "plt.xlabel('Epoch')\n",
    "plt.legend(loc='upper right')\n",
    "\n",
    "plt.tight_layout()\n",
    "plt.show()"
   ]
  },
  {
   "cell_type": "code",
   "execution_count": null,
   "id": "51f29231-be9a-478d-84f2-d3ccee481627",
   "metadata": {},
   "outputs": [],
   "source": [
    "resnet_model = ResNet50(weights=None, input_shape=(32, 32, 1), classes=25)\n",
    "resnet_model.compile(optimizer='adam', loss=categorical_crossentropy, metrics=['accuracy'])\n",
    "\n",
    "history_resnet = resnet_model.fit(datagen.flow(X_train_resized, y_train, batch_size=64),\n",
    "                                  validation_data=(X_val_resized, y_val),\n",
    "                                  epochs=5, callbacks=[early_stopping, reduce_lr])"
   ]
  },
  {
   "cell_type": "code",
   "execution_count": null,
   "id": "b6d09521-a7a0-4cda-a417-3788f1d796df",
   "metadata": {},
   "outputs": [],
   "source": [
    "resnet_test_loss, resnet_test_acc = resnet_model.evaluate(X_test_resized, y_test)\n",
    "print(f\"ResNet50 Test accuracy: {resnet_test_acc:.4f}\")\n",
    "\n",
    "y_pred = resnet_model.predict(X_test_resized)\n",
    "y_pred_classes = np.argmax(y_pred, axis=1)\n",
    "y_true = np.argmax(y_test, axis=1)\n",
    "\n",
    "print(\"Classification Report of ResNet50 Model: \")\n",
    "print(classification_report(y_true, y_pred_classes))"
   ]
  },
  {
   "cell_type": "code",
   "execution_count": null,
   "id": "30409b82-6bc2-4883-b9b2-db1edd7a9a42",
   "metadata": {},
   "outputs": [],
   "source": [
    "confusion_mtx = confusion_matrix(y_true, y_pred_classes)\n",
    "plt.figure(figsize=(10, 8))\n",
    "sns.heatmap(confusion_mtx, annot=True, fmt='d', cmap='Blues', xticklabels=np.arange(25), yticklabels=np.arange(25))\n",
    "plt.xlabel('Predicted')\n",
    "plt.ylabel('True')\n",
    "plt.title('Confusion Matrix of ResNet50 Model')\n",
    "plt.show()"
   ]
  },
  {
   "cell_type": "code",
   "execution_count": null,
   "id": "7759ae91-eae4-4885-b351-1d7fcb13a6cd",
   "metadata": {},
   "outputs": [],
   "source": [
    "plt.figure(figsize=(12, 5))\n",
    "plt.subplot(1, 2, 1)\n",
    "plt.plot(history_resnet.history['accuracy'], label='Train Accuracy')\n",
    "plt.plot(history_resnet.history['val_accuracy'], label='Validation Accuracy')\n",
    "plt.title('Model Accuracy')\n",
    "plt.ylabel('Accuracy')\n",
    "plt.xlabel('Epoch')\n",
    "plt.legend(loc='lower right')\n",
    "\n",
    "plt.subplot(1, 2, 2)\n",
    "plt.plot(history_resnet.history['loss'], label='Train Loss')\n",
    "plt.plot(history_resnet.history['val_loss'], label='Validation Loss')\n",
    "plt.title('Model Loss')\n",
    "plt.ylabel('Loss')\n",
    "plt.xlabel('Epoch')\n",
    "plt.legend(loc='upper right')\n",
    "\n",
    "plt.tight_layout()\n",
    "plt.show()"
   ]
  }
 ],
 "metadata": {
  "kernelspec": {
   "display_name": "Python 3 (ipykernel)",
   "language": "python",
   "name": "python3"
  },
  "language_info": {
   "codemirror_mode": {
    "name": "ipython",
    "version": 3
   },
   "file_extension": ".py",
   "mimetype": "text/x-python",
   "name": "python",
   "nbconvert_exporter": "python",
   "pygments_lexer": "ipython3",
   "version": "3.12.4"
  }
 },
 "nbformat": 4,
 "nbformat_minor": 5
}
